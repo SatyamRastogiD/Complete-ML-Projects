{
  "nbformat": 4,
  "nbformat_minor": 0,
  "metadata": {
    "colab": {
      "name": "End-to-End Regression Pipeline Using ScikitLearn",
      "provenance": [],
      "collapsed_sections": [],
      "authorship_tag": "ABX9TyOGLtC1FgcqNDbQlHhuZ+ch",
      "include_colab_link": true
    },
    "kernelspec": {
      "name": "python3",
      "display_name": "Python 3"
    }
  },
  "cells": [
    {
      "cell_type": "markdown",
      "metadata": {
        "id": "view-in-github",
        "colab_type": "text"
      },
      "source": [
        "<a href=\"https://colab.research.google.com/github/SatyamRastogiD/Complete-ML-Projects/blob/main/End_to_End_Regression_Pipeline_Using_ScikitLearn.ipynb\" target=\"_parent\"><img src=\"https://colab.research.google.com/assets/colab-badge.svg\" alt=\"Open In Colab\"/></a>"
      ]
    },
    {
      "cell_type": "markdown",
      "metadata": {
        "id": "LQR2W7V6YUTH"
      },
      "source": [
        "# Prediction of Burn Area using Meteorological Data"
      ]
    },
    {
      "cell_type": "markdown",
      "metadata": {
        "id": "i2lzbCj9Yc3Z"
      },
      "source": [
        "# Loading Libraries"
      ]
    },
    {
      "cell_type": "code",
      "metadata": {
        "id": "5tZ1HAYQYVge"
      },
      "source": [
        "#support python 2&3\n",
        "from __future__ import division, print_function, unicode_literals\n",
        "\n",
        "#common imports\n",
        "import os\n",
        "import numpy as np\n",
        "import pandas as pd\n",
        "import matplotlib\n",
        "import matplotlib.pyplot as plt\n",
        "import seaborn as sns\n",
        "\n",
        "#make notebook's output stable across runs\n",
        "np.random.seed(42)\n",
        "\n",
        "#Pretty Figures\n",
        "%matplotlib inline\n",
        "plt.rcParams['axes.labelsize'] = 14\n",
        "plt.rcParams['xtick.labelsize'] = 12\n",
        "plt.rcParams['ytick.labelsize'] = 12\n",
        "\n",
        "#Ignore useless warnings\n",
        "import warnings\n",
        "warnings.filterwarnings(action='ignore',message='^internal gelsd')\n",
        "pd.options.mode.chained_assignment = None"
      ],
      "execution_count": 5,
      "outputs": []
    },
    {
      "cell_type": "code",
      "metadata": {
        "id": "gehkTPaUYfMw",
        "outputId": "5f57ee1e-df13-4dcd-ea63-a50de4a3ec13",
        "colab": {
          "base_uri": "https://localhost:8080/",
          "height": 34
        }
      },
      "source": [
        "# Any results you write to the current directory are saved as output\n",
        "print(os.listdir(\"/content\"))"
      ],
      "execution_count": 9,
      "outputs": [
        {
          "output_type": "stream",
          "text": [
            "['.config', 'forestfires.csv', 'sample_data']\n"
          ],
          "name": "stdout"
        }
      ]
    },
    {
      "cell_type": "markdown",
      "metadata": {
        "id": "EvzP9kQtkMIJ"
      },
      "source": [
        "# Laoding Data"
      ]
    },
    {
      "cell_type": "code",
      "metadata": {
        "id": "2p9bVy23aMO2",
        "outputId": "e3efec2d-dbe6-4b8b-f4fe-aa11579f1d34",
        "colab": {
          "base_uri": "https://localhost:8080/",
          "height": 195
        }
      },
      "source": [
        "# function to load data\n",
        "fire = pd.read_csv(\"/content/forestfires.csv\")\n",
        "fire.head()"
      ],
      "execution_count": 10,
      "outputs": [
        {
          "output_type": "execute_result",
          "data": {
            "text/html": [
              "<div>\n",
              "<style scoped>\n",
              "    .dataframe tbody tr th:only-of-type {\n",
              "        vertical-align: middle;\n",
              "    }\n",
              "\n",
              "    .dataframe tbody tr th {\n",
              "        vertical-align: top;\n",
              "    }\n",
              "\n",
              "    .dataframe thead th {\n",
              "        text-align: right;\n",
              "    }\n",
              "</style>\n",
              "<table border=\"1\" class=\"dataframe\">\n",
              "  <thead>\n",
              "    <tr style=\"text-align: right;\">\n",
              "      <th></th>\n",
              "      <th>X</th>\n",
              "      <th>Y</th>\n",
              "      <th>month</th>\n",
              "      <th>day</th>\n",
              "      <th>FFMC</th>\n",
              "      <th>DMC</th>\n",
              "      <th>DC</th>\n",
              "      <th>ISI</th>\n",
              "      <th>temp</th>\n",
              "      <th>RH</th>\n",
              "      <th>wind</th>\n",
              "      <th>rain</th>\n",
              "      <th>area</th>\n",
              "    </tr>\n",
              "  </thead>\n",
              "  <tbody>\n",
              "    <tr>\n",
              "      <th>0</th>\n",
              "      <td>7</td>\n",
              "      <td>5</td>\n",
              "      <td>mar</td>\n",
              "      <td>fri</td>\n",
              "      <td>86.2</td>\n",
              "      <td>26.2</td>\n",
              "      <td>94.3</td>\n",
              "      <td>5.1</td>\n",
              "      <td>8.2</td>\n",
              "      <td>51</td>\n",
              "      <td>6.7</td>\n",
              "      <td>0.0</td>\n",
              "      <td>0.0</td>\n",
              "    </tr>\n",
              "    <tr>\n",
              "      <th>1</th>\n",
              "      <td>7</td>\n",
              "      <td>4</td>\n",
              "      <td>oct</td>\n",
              "      <td>tue</td>\n",
              "      <td>90.6</td>\n",
              "      <td>35.4</td>\n",
              "      <td>669.1</td>\n",
              "      <td>6.7</td>\n",
              "      <td>18.0</td>\n",
              "      <td>33</td>\n",
              "      <td>0.9</td>\n",
              "      <td>0.0</td>\n",
              "      <td>0.0</td>\n",
              "    </tr>\n",
              "    <tr>\n",
              "      <th>2</th>\n",
              "      <td>7</td>\n",
              "      <td>4</td>\n",
              "      <td>oct</td>\n",
              "      <td>sat</td>\n",
              "      <td>90.6</td>\n",
              "      <td>43.7</td>\n",
              "      <td>686.9</td>\n",
              "      <td>6.7</td>\n",
              "      <td>14.6</td>\n",
              "      <td>33</td>\n",
              "      <td>1.3</td>\n",
              "      <td>0.0</td>\n",
              "      <td>0.0</td>\n",
              "    </tr>\n",
              "    <tr>\n",
              "      <th>3</th>\n",
              "      <td>8</td>\n",
              "      <td>6</td>\n",
              "      <td>mar</td>\n",
              "      <td>fri</td>\n",
              "      <td>91.7</td>\n",
              "      <td>33.3</td>\n",
              "      <td>77.5</td>\n",
              "      <td>9.0</td>\n",
              "      <td>8.3</td>\n",
              "      <td>97</td>\n",
              "      <td>4.0</td>\n",
              "      <td>0.2</td>\n",
              "      <td>0.0</td>\n",
              "    </tr>\n",
              "    <tr>\n",
              "      <th>4</th>\n",
              "      <td>8</td>\n",
              "      <td>6</td>\n",
              "      <td>mar</td>\n",
              "      <td>sun</td>\n",
              "      <td>89.3</td>\n",
              "      <td>51.3</td>\n",
              "      <td>102.2</td>\n",
              "      <td>9.6</td>\n",
              "      <td>11.4</td>\n",
              "      <td>99</td>\n",
              "      <td>1.8</td>\n",
              "      <td>0.0</td>\n",
              "      <td>0.0</td>\n",
              "    </tr>\n",
              "  </tbody>\n",
              "</table>\n",
              "</div>"
            ],
            "text/plain": [
              "   X  Y month  day  FFMC   DMC     DC  ISI  temp  RH  wind  rain  area\n",
              "0  7  5   mar  fri  86.2  26.2   94.3  5.1   8.2  51   6.7   0.0   0.0\n",
              "1  7  4   oct  tue  90.6  35.4  669.1  6.7  18.0  33   0.9   0.0   0.0\n",
              "2  7  4   oct  sat  90.6  43.7  686.9  6.7  14.6  33   1.3   0.0   0.0\n",
              "3  8  6   mar  fri  91.7  33.3   77.5  9.0   8.3  97   4.0   0.2   0.0\n",
              "4  8  6   mar  sun  89.3  51.3  102.2  9.6  11.4  99   1.8   0.0   0.0"
            ]
          },
          "metadata": {
            "tags": []
          },
          "execution_count": 10
        }
      ]
    },
    {
      "cell_type": "markdown",
      "metadata": {
        "id": "tmBYRCgZajeG"
      },
      "source": [
        "the dataset doesn't have any missing values, so I am randomly removing some data points from FFMC attribute to showcase how to handle missing data problems"
      ]
    },
    {
      "cell_type": "code",
      "metadata": {
        "id": "CZmNW1FqagmM",
        "outputId": "3b541fae-0a03-49d6-a07d-e2acd7314ddb",
        "colab": {
          "base_uri": "https://localhost:8080/",
          "height": 353
        }
      },
      "source": [
        "fire.FFMC[np.random.choice(fire.index,15)] = np.nan\n",
        "fire.info() #now we have 15 missing values for attribute FFMC"
      ],
      "execution_count": 11,
      "outputs": [
        {
          "output_type": "stream",
          "text": [
            "<class 'pandas.core.frame.DataFrame'>\n",
            "RangeIndex: 517 entries, 0 to 516\n",
            "Data columns (total 13 columns):\n",
            " #   Column  Non-Null Count  Dtype  \n",
            "---  ------  --------------  -----  \n",
            " 0   X       517 non-null    int64  \n",
            " 1   Y       517 non-null    int64  \n",
            " 2   month   517 non-null    object \n",
            " 3   day     517 non-null    object \n",
            " 4   FFMC    502 non-null    float64\n",
            " 5   DMC     517 non-null    float64\n",
            " 6   DC      517 non-null    float64\n",
            " 7   ISI     517 non-null    float64\n",
            " 8   temp    517 non-null    float64\n",
            " 9   RH      517 non-null    int64  \n",
            " 10  wind    517 non-null    float64\n",
            " 11  rain    517 non-null    float64\n",
            " 12  area    517 non-null    float64\n",
            "dtypes: float64(8), int64(3), object(2)\n",
            "memory usage: 52.6+ KB\n"
          ],
          "name": "stdout"
        }
      ]
    },
    {
      "cell_type": "markdown",
      "metadata": {
        "id": "-OkrvVZ2kXy-"
      },
      "source": [
        "# Data Exploration"
      ]
    },
    {
      "cell_type": "code",
      "metadata": {
        "id": "jVGZMUoUant-",
        "outputId": "5cfb1613-1fd2-47be-e4f7-313010ef0d92",
        "colab": {
          "base_uri": "https://localhost:8080/",
          "height": 284
        }
      },
      "source": [
        "fire.describe() #some attributes skewed to the right(mean>median) some to the left(mean<median)"
      ],
      "execution_count": 12,
      "outputs": [
        {
          "output_type": "execute_result",
          "data": {
            "text/html": [
              "<div>\n",
              "<style scoped>\n",
              "    .dataframe tbody tr th:only-of-type {\n",
              "        vertical-align: middle;\n",
              "    }\n",
              "\n",
              "    .dataframe tbody tr th {\n",
              "        vertical-align: top;\n",
              "    }\n",
              "\n",
              "    .dataframe thead th {\n",
              "        text-align: right;\n",
              "    }\n",
              "</style>\n",
              "<table border=\"1\" class=\"dataframe\">\n",
              "  <thead>\n",
              "    <tr style=\"text-align: right;\">\n",
              "      <th></th>\n",
              "      <th>X</th>\n",
              "      <th>Y</th>\n",
              "      <th>FFMC</th>\n",
              "      <th>DMC</th>\n",
              "      <th>DC</th>\n",
              "      <th>ISI</th>\n",
              "      <th>temp</th>\n",
              "      <th>RH</th>\n",
              "      <th>wind</th>\n",
              "      <th>rain</th>\n",
              "      <th>area</th>\n",
              "    </tr>\n",
              "  </thead>\n",
              "  <tbody>\n",
              "    <tr>\n",
              "      <th>count</th>\n",
              "      <td>517.000000</td>\n",
              "      <td>517.000000</td>\n",
              "      <td>502.000000</td>\n",
              "      <td>517.000000</td>\n",
              "      <td>517.000000</td>\n",
              "      <td>517.000000</td>\n",
              "      <td>517.000000</td>\n",
              "      <td>517.000000</td>\n",
              "      <td>517.000000</td>\n",
              "      <td>517.000000</td>\n",
              "      <td>517.000000</td>\n",
              "    </tr>\n",
              "    <tr>\n",
              "      <th>mean</th>\n",
              "      <td>4.669246</td>\n",
              "      <td>4.299807</td>\n",
              "      <td>90.653586</td>\n",
              "      <td>110.872340</td>\n",
              "      <td>547.940039</td>\n",
              "      <td>9.021663</td>\n",
              "      <td>18.889168</td>\n",
              "      <td>44.288201</td>\n",
              "      <td>4.017602</td>\n",
              "      <td>0.021663</td>\n",
              "      <td>12.847292</td>\n",
              "    </tr>\n",
              "    <tr>\n",
              "      <th>std</th>\n",
              "      <td>2.313778</td>\n",
              "      <td>1.229900</td>\n",
              "      <td>5.499615</td>\n",
              "      <td>64.046482</td>\n",
              "      <td>248.066192</td>\n",
              "      <td>4.559477</td>\n",
              "      <td>5.806625</td>\n",
              "      <td>16.317469</td>\n",
              "      <td>1.791653</td>\n",
              "      <td>0.295959</td>\n",
              "      <td>63.655818</td>\n",
              "    </tr>\n",
              "    <tr>\n",
              "      <th>min</th>\n",
              "      <td>1.000000</td>\n",
              "      <td>2.000000</td>\n",
              "      <td>18.700000</td>\n",
              "      <td>1.100000</td>\n",
              "      <td>7.900000</td>\n",
              "      <td>0.000000</td>\n",
              "      <td>2.200000</td>\n",
              "      <td>15.000000</td>\n",
              "      <td>0.400000</td>\n",
              "      <td>0.000000</td>\n",
              "      <td>0.000000</td>\n",
              "    </tr>\n",
              "    <tr>\n",
              "      <th>25%</th>\n",
              "      <td>3.000000</td>\n",
              "      <td>4.000000</td>\n",
              "      <td>90.200000</td>\n",
              "      <td>68.600000</td>\n",
              "      <td>437.700000</td>\n",
              "      <td>6.500000</td>\n",
              "      <td>15.500000</td>\n",
              "      <td>33.000000</td>\n",
              "      <td>2.700000</td>\n",
              "      <td>0.000000</td>\n",
              "      <td>0.000000</td>\n",
              "    </tr>\n",
              "    <tr>\n",
              "      <th>50%</th>\n",
              "      <td>4.000000</td>\n",
              "      <td>4.000000</td>\n",
              "      <td>91.600000</td>\n",
              "      <td>108.300000</td>\n",
              "      <td>664.200000</td>\n",
              "      <td>8.400000</td>\n",
              "      <td>19.300000</td>\n",
              "      <td>42.000000</td>\n",
              "      <td>4.000000</td>\n",
              "      <td>0.000000</td>\n",
              "      <td>0.520000</td>\n",
              "    </tr>\n",
              "    <tr>\n",
              "      <th>75%</th>\n",
              "      <td>7.000000</td>\n",
              "      <td>5.000000</td>\n",
              "      <td>92.900000</td>\n",
              "      <td>142.400000</td>\n",
              "      <td>713.900000</td>\n",
              "      <td>10.800000</td>\n",
              "      <td>22.800000</td>\n",
              "      <td>53.000000</td>\n",
              "      <td>4.900000</td>\n",
              "      <td>0.000000</td>\n",
              "      <td>6.570000</td>\n",
              "    </tr>\n",
              "    <tr>\n",
              "      <th>max</th>\n",
              "      <td>9.000000</td>\n",
              "      <td>9.000000</td>\n",
              "      <td>96.200000</td>\n",
              "      <td>291.300000</td>\n",
              "      <td>860.600000</td>\n",
              "      <td>56.100000</td>\n",
              "      <td>33.300000</td>\n",
              "      <td>100.000000</td>\n",
              "      <td>9.400000</td>\n",
              "      <td>6.400000</td>\n",
              "      <td>1090.840000</td>\n",
              "    </tr>\n",
              "  </tbody>\n",
              "</table>\n",
              "</div>"
            ],
            "text/plain": [
              "                X           Y        FFMC  ...        wind        rain         area\n",
              "count  517.000000  517.000000  502.000000  ...  517.000000  517.000000   517.000000\n",
              "mean     4.669246    4.299807   90.653586  ...    4.017602    0.021663    12.847292\n",
              "std      2.313778    1.229900    5.499615  ...    1.791653    0.295959    63.655818\n",
              "min      1.000000    2.000000   18.700000  ...    0.400000    0.000000     0.000000\n",
              "25%      3.000000    4.000000   90.200000  ...    2.700000    0.000000     0.000000\n",
              "50%      4.000000    4.000000   91.600000  ...    4.000000    0.000000     0.520000\n",
              "75%      7.000000    5.000000   92.900000  ...    4.900000    0.000000     6.570000\n",
              "max      9.000000    9.000000   96.200000  ...    9.400000    6.400000  1090.840000\n",
              "\n",
              "[8 rows x 11 columns]"
            ]
          },
          "metadata": {
            "tags": []
          },
          "execution_count": 12
        }
      ]
    },
    {
      "cell_type": "code",
      "metadata": {
        "id": "l2DF-Z_watpx",
        "outputId": "c02fce11-e62a-4e0c-e1a8-9f3751d4c600",
        "colab": {
          "base_uri": "https://localhost:8080/",
          "height": 50
        }
      },
      "source": [
        "#let's name the categorical and numeical attributes \n",
        "categorical_attributes = list(fire.select_dtypes(include=['object']).columns)\n",
        "numerical_attributes = list(fire.select_dtypes(include=['float64', 'int64']).columns)\n",
        "print('categorical_attributes:', categorical_attributes)\n",
        "print('numerical_attributes:', numerical_attributes)"
      ],
      "execution_count": 13,
      "outputs": [
        {
          "output_type": "stream",
          "text": [
            "categorical_attributes: ['month', 'day']\n",
            "numerical_attributes: ['X', 'Y', 'FFMC', 'DMC', 'DC', 'ISI', 'temp', 'RH', 'wind', 'rain', 'area']\n"
          ],
          "name": "stdout"
        }
      ]
    },
    {
      "cell_type": "code",
      "metadata": {
        "id": "QIP6SrQuayen",
        "outputId": "8bc8f19c-8d8e-4f66-ea65-a8a9a5018159",
        "colab": {
          "base_uri": "https://localhost:8080/",
          "height": 437
        }
      },
      "source": [
        "#Here we face an uniqe issue where a few months have only 1 or 2 data points. I chose to get rid of these so that the glm models\n",
        "#can handle the tests properly. Let me know how you would have hanlded.\n",
        "print('months', fire.month.value_counts(), sep='\\n')\n",
        "print('\\n')\n",
        "print('days', fire.day.value_counts(), sep='\\n')"
      ],
      "execution_count": 14,
      "outputs": [
        {
          "output_type": "stream",
          "text": [
            "months\n",
            "aug    184\n",
            "sep    172\n",
            "mar     54\n",
            "jul     32\n",
            "feb     20\n",
            "jun     17\n",
            "oct     15\n",
            "dec      9\n",
            "apr      9\n",
            "may      2\n",
            "jan      2\n",
            "nov      1\n",
            "Name: month, dtype: int64\n",
            "\n",
            "\n",
            "days\n",
            "sun    95\n",
            "fri    85\n",
            "sat    84\n",
            "mon    74\n",
            "tue    64\n",
            "thu    61\n",
            "wed    54\n",
            "Name: day, dtype: int64\n"
          ],
          "name": "stdout"
        }
      ]
    },
    {
      "cell_type": "code",
      "metadata": {
        "id": "LTQvWyGebC_q",
        "outputId": "11c3dac9-c3b8-42d2-8931-da894d35b5e6",
        "colab": {
          "base_uri": "https://localhost:8080/",
          "height": 185
        }
      },
      "source": [
        "months_to_remove = ['nov','jan','may']\n",
        "forest_fire = fire.drop(fire[fire.month.isin(months_to_remove)].index ,axis=0)\n",
        "forest_fire.month.value_counts()"
      ],
      "execution_count": 15,
      "outputs": [
        {
          "output_type": "execute_result",
          "data": {
            "text/plain": [
              "aug    184\n",
              "sep    172\n",
              "mar     54\n",
              "jul     32\n",
              "feb     20\n",
              "jun     17\n",
              "oct     15\n",
              "dec      9\n",
              "apr      9\n",
              "Name: month, dtype: int64"
            ]
          },
          "metadata": {
            "tags": []
          },
          "execution_count": 15
        }
      ]
    },
    {
      "cell_type": "code",
      "metadata": {
        "id": "K07KpjI5bLPT",
        "outputId": "5246d016-9aa8-48fe-aa45-15b4a6e66d92",
        "colab": {
          "base_uri": "https://localhost:8080/",
          "height": 610
        }
      },
      "source": [
        "#visualizing distributions \n",
        "forest_fire.hist(bins=50, figsize=(15,10), ec='w')\n",
        "plt.show()\n",
        "#target-area-is heavily skewed, we have extreme outliers."
      ],
      "execution_count": 16,
      "outputs": [
        {
          "output_type": "display_data",
          "data": {
            "image/png": "[encoded data removed]",
            "text/plain": [
              "<Figure size 1080x720 with 12 Axes>"
            ]
          },
          "metadata": {
            "tags": [],
            "needs_background": "light"
          }
        }
      ]
    },
    {
      "cell_type": "code",
      "metadata": {
        "id": "WTbRMGGTbNGR",
        "outputId": "d36ed462-8499-4cd7-d522-68d632c9b67a",
        "colab": {
          "base_uri": "https://localhost:8080/",
          "height": 285
        }
      },
      "source": [
        "plt.hist(forest_fire.area, ec='w', bins=100, color='red')\n",
        "plt.text(800,100, 'max: '+str(forest_fire.area.max()), color='black', fontsize=14)\n",
        "#Burnt area attribute ranges from 0 to 1091."
      ],
      "execution_count": 17,
      "outputs": [
        {
          "output_type": "execute_result",
          "data": {
            "text/plain": [
              "Text(800, 100, 'max: 1090.84')"
            ]
          },
          "metadata": {
            "tags": []
          },
          "execution_count": 17
        },
        {
          "output_type": "display_data",
          "data": {
            "image/png": "[encoded data removed]",
            "text/plain": [
              "<Figure size 432x288 with 1 Axes>"
            ]
          },
          "metadata": {
            "tags": [],
            "needs_background": "light"
          }
        }
      ]
    },
    {
      "cell_type": "code",
      "metadata": {
        "id": "6HIY-Pl7jVew",
        "outputId": "1706d79c-1cf5-4dfe-95ff-9958a3df6633",
        "colab": {
          "base_uri": "https://localhost:8080/",
          "height": 118
        }
      },
      "source": [
        "#Grouping the the burnt area to get a better understanding\n",
        "forest_fire['area_cat'] = pd.cut(forest_fire['area'], bins=[0,5, 10, 50, 100, 1100], include_lowest=True, \n",
        "                                 labels=['0-5', '5-10', '10-50', '50-100', '>100'])\n",
        "forest_fire.area_cat.value_counts()"
      ],
      "execution_count": 18,
      "outputs": [
        {
          "output_type": "execute_result",
          "data": {
            "text/plain": [
              "0-5       362\n",
              "10-50      70\n",
              "5-10       56\n",
              "50-100     13\n",
              ">100       11\n",
              "Name: area_cat, dtype: int64"
            ]
          },
          "metadata": {
            "tags": []
          },
          "execution_count": 18
        }
      ]
    },
    {
      "cell_type": "code",
      "metadata": {
        "id": "jiSCbh6Vjm82",
        "outputId": "7a4dcde4-7ff7-4a45-8711-d494e28af732",
        "colab": {
          "base_uri": "https://localhost:8080/",
          "height": 34
        }
      },
      "source": [
        "#Interquartile range\n",
        "Q1 = forest_fire.area.quantile(.25)\n",
        "Q3 = forest_fire.area.quantile(.75)\n",
        "IQR = 1.5*(Q3-Q1)\n",
        "IQR"
      ],
      "execution_count": 19,
      "outputs": [
        {
          "output_type": "execute_result",
          "data": {
            "text/plain": [
              "9.85875"
            ]
          },
          "metadata": {
            "tags": []
          },
          "execution_count": 19
        }
      ]
    },
    {
      "cell_type": "code",
      "metadata": {
        "id": "A0eO12mMjwVp",
        "outputId": "88c9fb4e-f6f5-47ba-be4d-9b2df28b7fff",
        "colab": {
          "base_uri": "https://localhost:8080/",
          "height": 118
        }
      },
      "source": [
        "#we are loosing quite a number of data points in already a small data set if we remove all outliers\n",
        "forest_fire.query('(@Q1 - 1.5 * @IQR) <= area <= (@Q3 + 1.5 * @IQR)').area_cat.value_counts(sort=False)"
      ],
      "execution_count": 20,
      "outputs": [
        {
          "output_type": "execute_result",
          "data": {
            "text/plain": [
              "0-5       362\n",
              "5-10       56\n",
              "10-50      37\n",
              "50-100      0\n",
              ">100        0\n",
              "Name: area_cat, dtype: int64"
            ]
          },
          "metadata": {
            "tags": []
          },
          "execution_count": 20
        }
      ]
    },
    {
      "cell_type": "markdown",
      "metadata": {
        "id": "vfj6bucekBo5"
      },
      "source": [
        "I chose to remove any area greater than 100. You could do it differently, maybe with log transformations or simply removing every outlier example. It all depends how you state your problem. For me it is a matter of showcasing several tricks of Scikit-Learn, but I would have gone for a log-log model otherwise. Maybe in part2, where I will do a Regression framework using TensorFlow in eager."
      ]
    },
    {
      "cell_type": "code",
      "metadata": {
        "id": "h4JmO2Vbjz9H",
        "outputId": "f52ac559-041c-46f9-c4bf-a44321d28f74",
        "colab": {
          "base_uri": "https://localhost:8080/",
          "height": 118
        }
      },
      "source": [
        "#remove outliers\n",
        "forest_fire.drop(forest_fire[forest_fire.area>100].index,axis=0, inplace=True)\n",
        "forest_fire.area_cat.value_counts()"
      ],
      "execution_count": 21,
      "outputs": [
        {
          "output_type": "execute_result",
          "data": {
            "text/plain": [
              "0-5       362\n",
              "10-50      70\n",
              "5-10       56\n",
              "50-100     13\n",
              ">100        0\n",
              "Name: area_cat, dtype: int64"
            ]
          },
          "metadata": {
            "tags": []
          },
          "execution_count": 21
        }
      ]
    },
    {
      "cell_type": "markdown",
      "metadata": {
        "id": "FpfYbYs6ks2M"
      },
      "source": [
        "# Assumptions"
      ]
    },
    {
      "cell_type": "markdown",
      "metadata": {
        "id": "3dYRTqg0kwSO"
      },
      "source": [
        "Assumption1- Temperature might be a great indicator of wildfires and it might be the case that high temperature may lead to more area burnt."
      ]
    },
    {
      "cell_type": "code",
      "metadata": {
        "id": "liyg5XaRkuVb",
        "outputId": "55eda7bc-9797-4cd4-bfff-2c1022cbd8ba",
        "colab": {
          "base_uri": "https://localhost:8080/",
          "height": 268
        }
      },
      "source": [
        "#Let's understand what temp ranges we have here.\n",
        "plt.hist(forest_fire.temp, ec='w', bins=50, color='red')\n",
        "plt.show()"
      ],
      "execution_count": 24,
      "outputs": [
        {
          "output_type": "display_data",
          "data": {
            "image/png": "[encoded data removed]",
            "text/plain": [
              "<Figure size 432x288 with 1 Axes>"
            ]
          },
          "metadata": {
            "tags": [],
            "needs_background": "light"
          }
        }
      ]
    },
    {
      "cell_type": "code",
      "metadata": {
        "id": "XJSI_vSNkyO-",
        "outputId": "12eaec23-466f-40cd-bc12-47f78fc6b8a7",
        "colab": {
          "base_uri": "https://localhost:8080/",
          "height": 101
        }
      },
      "source": [
        "forest_fire['temp_bins'] = pd.cut(forest_fire.temp, bins=[0, 15, 20, 25, 40], include_lowest=True, \n",
        "                                 labels=['0-15', '15-20', '20-25', '>25'])\n",
        "forest_fire.temp_bins.value_counts(sort=False)\n",
        "#so we have from very cold 0-15 degrees to hot >25 degree."
      ],
      "execution_count": 25,
      "outputs": [
        {
          "output_type": "execute_result",
          "data": {
            "text/plain": [
              "0-15     109\n",
              "15-20    167\n",
              "20-25    163\n",
              ">25       62\n",
              "Name: temp_bins, dtype: int64"
            ]
          },
          "metadata": {
            "tags": []
          },
          "execution_count": 25
        }
      ]
    },
    {
      "cell_type": "markdown",
      "metadata": {
        "id": "amV2uxkllI7k"
      },
      "source": [
        "As, I have assumed temp is a critical indicator, to have a golden test dataset I would prefer that both train and test has equally distributed temperature conditions. Stratified shuffle split will help us maintain the required strata compositions here. My strata set is temperature categories I have created above. Do note while creating groups make sure that all the groups are well represented"
      ]
    },
    {
      "cell_type": "code",
      "metadata": {
        "id": "po0Q87N0lIHo"
      },
      "source": [
        "from sklearn.model_selection import StratifiedShuffleSplit\n",
        "\n",
        "split = StratifiedShuffleSplit(n_splits=1, test_size=0.2, random_state=42)\n",
        "for train_index, test_index in split.split(forest_fire.values, forest_fire.temp_bins.values):\n",
        "    st_train_set = forest_fire.iloc[train_index]\n",
        "    st_test_set = forest_fire.iloc[test_index]"
      ],
      "execution_count": 27,
      "outputs": []
    },
    {
      "cell_type": "markdown",
      "metadata": {
        "id": "KCi1Kr3Elaig"
      },
      "source": [
        "Once you create the test data remember to not touch it until you finalize your model. Any exploration of test data would result in a biased perspective that might not generalize well to new data once the system is live."
      ]
    },
    {
      "cell_type": "code",
      "metadata": {
        "id": "IKrmnEz5lZ3Y",
        "outputId": "f6401e6a-bc6e-4b08-df10-6625d54f8310",
        "colab": {
          "base_uri": "https://localhost:8080/",
          "height": 185
        }
      },
      "source": [
        "#this works like magic.\n",
        "print(st_test_set.temp_bins.value_counts(sort=False)/len(st_test_set), sep='\\n')\n",
        "print(forest_fire.temp_bins.value_counts(sort=False)/len(forest_fire), sep='\\n')"
      ],
      "execution_count": 29,
      "outputs": [
        {
          "output_type": "stream",
          "text": [
            "0-15     0.217822\n",
            "15-20    0.336634\n",
            "20-25    0.326733\n",
            ">25      0.118812\n",
            "Name: temp_bins, dtype: float64\n",
            "0-15     0.217565\n",
            "15-20    0.333333\n",
            "20-25    0.325349\n",
            ">25      0.123752\n",
            "Name: temp_bins, dtype: float64\n"
          ],
          "name": "stdout"
        }
      ]
    },
    {
      "cell_type": "code",
      "metadata": {
        "id": "oLL3r5Dblddx",
        "outputId": "e772b3a2-61b5-442e-df66-9717da5b9938",
        "colab": {
          "base_uri": "https://localhost:8080/",
          "height": 195
        }
      },
      "source": [
        "#now lets drop the area and temp categories \n",
        "for _ in (st_train_set, st_test_set):\n",
        "    _.drop(['area_cat','temp_bins'], axis=1, inplace=True)\n",
        "    \n",
        "forest_fire = st_train_set.copy()\n",
        "forest_fire.head()"
      ],
      "execution_count": 30,
      "outputs": [
        {
          "output_type": "execute_result",
          "data": {
            "text/html": [
              "<div>\n",
              "<style scoped>\n",
              "    .dataframe tbody tr th:only-of-type {\n",
              "        vertical-align: middle;\n",
              "    }\n",
              "\n",
              "    .dataframe tbody tr th {\n",
              "        vertical-align: top;\n",
              "    }\n",
              "\n",
              "    .dataframe thead th {\n",
              "        text-align: right;\n",
              "    }\n",
              "</style>\n",
              "<table border=\"1\" class=\"dataframe\">\n",
              "  <thead>\n",
              "    <tr style=\"text-align: right;\">\n",
              "      <th></th>\n",
              "      <th>X</th>\n",
              "      <th>Y</th>\n",
              "      <th>month</th>\n",
              "      <th>day</th>\n",
              "      <th>FFMC</th>\n",
              "      <th>DMC</th>\n",
              "      <th>DC</th>\n",
              "      <th>ISI</th>\n",
              "      <th>temp</th>\n",
              "      <th>RH</th>\n",
              "      <th>wind</th>\n",
              "      <th>rain</th>\n",
              "      <th>area</th>\n",
              "    </tr>\n",
              "  </thead>\n",
              "  <tbody>\n",
              "    <tr>\n",
              "      <th>359</th>\n",
              "      <td>1</td>\n",
              "      <td>4</td>\n",
              "      <td>sep</td>\n",
              "      <td>fri</td>\n",
              "      <td>92.5</td>\n",
              "      <td>122.0</td>\n",
              "      <td>789.7</td>\n",
              "      <td>10.2</td>\n",
              "      <td>21.1</td>\n",
              "      <td>39</td>\n",
              "      <td>2.2</td>\n",
              "      <td>0.0</td>\n",
              "      <td>8.12</td>\n",
              "    </tr>\n",
              "    <tr>\n",
              "      <th>314</th>\n",
              "      <td>4</td>\n",
              "      <td>4</td>\n",
              "      <td>sep</td>\n",
              "      <td>wed</td>\n",
              "      <td>92.6</td>\n",
              "      <td>115.4</td>\n",
              "      <td>777.1</td>\n",
              "      <td>8.8</td>\n",
              "      <td>19.7</td>\n",
              "      <td>41</td>\n",
              "      <td>1.8</td>\n",
              "      <td>0.0</td>\n",
              "      <td>1.58</td>\n",
              "    </tr>\n",
              "    <tr>\n",
              "      <th>203</th>\n",
              "      <td>8</td>\n",
              "      <td>6</td>\n",
              "      <td>oct</td>\n",
              "      <td>wed</td>\n",
              "      <td>91.4</td>\n",
              "      <td>37.9</td>\n",
              "      <td>673.8</td>\n",
              "      <td>5.2</td>\n",
              "      <td>20.2</td>\n",
              "      <td>37</td>\n",
              "      <td>2.7</td>\n",
              "      <td>0.0</td>\n",
              "      <td>13.70</td>\n",
              "    </tr>\n",
              "    <tr>\n",
              "      <th>319</th>\n",
              "      <td>5</td>\n",
              "      <td>4</td>\n",
              "      <td>sep</td>\n",
              "      <td>thu</td>\n",
              "      <td>92.8</td>\n",
              "      <td>119.0</td>\n",
              "      <td>783.5</td>\n",
              "      <td>7.5</td>\n",
              "      <td>21.6</td>\n",
              "      <td>28</td>\n",
              "      <td>6.3</td>\n",
              "      <td>0.0</td>\n",
              "      <td>4.41</td>\n",
              "    </tr>\n",
              "    <tr>\n",
              "      <th>51</th>\n",
              "      <td>4</td>\n",
              "      <td>3</td>\n",
              "      <td>aug</td>\n",
              "      <td>sun</td>\n",
              "      <td>90.2</td>\n",
              "      <td>99.6</td>\n",
              "      <td>631.2</td>\n",
              "      <td>6.3</td>\n",
              "      <td>21.5</td>\n",
              "      <td>34</td>\n",
              "      <td>2.2</td>\n",
              "      <td>0.0</td>\n",
              "      <td>0.00</td>\n",
              "    </tr>\n",
              "  </tbody>\n",
              "</table>\n",
              "</div>"
            ],
            "text/plain": [
              "     X  Y month  day  FFMC    DMC     DC   ISI  temp  RH  wind  rain   area\n",
              "359  1  4   sep  fri  92.5  122.0  789.7  10.2  21.1  39   2.2   0.0   8.12\n",
              "314  4  4   sep  wed  92.6  115.4  777.1   8.8  19.7  41   1.8   0.0   1.58\n",
              "203  8  6   oct  wed  91.4   37.9  673.8   5.2  20.2  37   2.7   0.0  13.70\n",
              "319  5  4   sep  thu  92.8  119.0  783.5   7.5  21.6  28   6.3   0.0   4.41\n",
              "51   4  3   aug  sun  90.2   99.6  631.2   6.3  21.5  34   2.2   0.0   0.00"
            ]
          },
          "metadata": {
            "tags": []
          },
          "execution_count": 30
        }
      ]
    },
    {
      "cell_type": "code",
      "metadata": {
        "id": "SAI0W35Hna7e",
        "outputId": "e26233c9-7d43-485e-eea2-771562e23dfb",
        "colab": {
          "base_uri": "https://localhost:8080/",
          "height": 504
        }
      },
      "source": [
        "#December had a few incidents but all on the higher burnt area side. Is it becuase dry weather or because more tourists? \n",
        "ax = plt.figure(figsize=(12,8))\n",
        "ax = sns.boxplot(x='month', y='area', data=forest_fire, color='lightgrey', )\n",
        "ax = sns.stripplot(x='month', y='area', data=forest_fire, color='red', jitter=0.4, size=4)"
      ],
      "execution_count": 31,
      "outputs": [
        {
          "output_type": "display_data",
          "data": {
            "image/png": "[encoded data removed]",
            "text/plain": [
              "<Figure size 864x576 with 1 Axes>"
            ]
          },
          "metadata": {
            "tags": [],
            "needs_background": "light"
          }
        }
      ]
    },
    {
      "cell_type": "code",
      "metadata": {
        "id": "w_lloTMpnmR_",
        "outputId": "b961c425-c991-4445-b658-9d91c43cf111",
        "colab": {
          "base_uri": "https://localhost:8080/",
          "height": 504
        }
      },
      "source": [
        "#There are more incidents on weekends - Friday/Sat/Sun, it might mean that campers vactioning might have caused/spotted fires.\n",
        "ax = plt.figure(figsize=(12,8))\n",
        "ax = sns.boxplot(x='day', y='area', data=forest_fire, color='lightgrey', )\n",
        "ax = sns.stripplot(x='day', y='area', data=forest_fire, color='red', jitter=0.4, size=4)"
      ],
      "execution_count": 32,
      "outputs": [
        {
          "output_type": "display_data",
          "data": {
            "image/png": "[encoded data removed]",
            "text/plain": [
              "<Figure size 864x576 with 1 Axes>"
            ]
          },
          "metadata": {
            "tags": [],
            "needs_background": "light"
          }
        }
      ]
    },
    {
      "cell_type": "code",
      "metadata": {
        "id": "dT2Re9RyoCwL",
        "outputId": "917d5f8d-5944-4c16-82bb-fb1938ae55b6",
        "colab": {
          "base_uri": "https://localhost:8080/",
          "height": 252
        }
      },
      "source": [
        "#I am checking the temparature distribution as per the forest cordinates during the month of december\n",
        "#it looks like the temps are low, so it could be a combinaton of dry weather and human made fire. But as data scientists,\n",
        "#we must make important discoveries to arrive at any conclusive evidence. Else the above statments are just my mind made \n",
        "#fantsies\n",
        "forest_fire[forest_fire.month=='dec'].plot(kind='scatter', x='X', y='Y', c='temp', cmap=plt.get_cmap('coolwarm'), colorbar=True)\n",
        "plt.show()"
      ],
      "execution_count": 33,
      "outputs": [
        {
          "output_type": "display_data",
          "data": {
            "image/png": "[encoded data removed]",
            "text/plain": [
              "<Figure size 432x288 with 2 Axes>"
            ]
          },
          "metadata": {
            "tags": [],
            "needs_background": "light"
          }
        }
      ]
    },
    {
      "cell_type": "markdown",
      "metadata": {
        "id": "QXQq0Ae4ofGB"
      },
      "source": [
        "Spearman rank correlation is more robust to the effect of outliers than Pearson’s correlations coefficient. If you need to know why I will load a new kernel sometime. But do remember we are just checking linear correlations her"
      ]
    },
    {
      "cell_type": "code",
      "metadata": {
        "id": "nOKK-JEzoaf3",
        "outputId": "6f8dd75d-3e2f-40c7-d773-9afbbc875472",
        "colab": {
          "base_uri": "https://localhost:8080/",
          "height": 373
        }
      },
      "source": [
        "corr_matrix = forest_fire.corr(method='spearman')\n",
        "corr_matrix"
      ],
      "execution_count": 34,
      "outputs": [
        {
          "output_type": "execute_result",
          "data": {
            "text/html": [
              "<div>\n",
              "<style scoped>\n",
              "    .dataframe tbody tr th:only-of-type {\n",
              "        vertical-align: middle;\n",
              "    }\n",
              "\n",
              "    .dataframe tbody tr th {\n",
              "        vertical-align: top;\n",
              "    }\n",
              "\n",
              "    .dataframe thead th {\n",
              "        text-align: right;\n",
              "    }\n",
              "</style>\n",
              "<table border=\"1\" class=\"dataframe\">\n",
              "  <thead>\n",
              "    <tr style=\"text-align: right;\">\n",
              "      <th></th>\n",
              "      <th>X</th>\n",
              "      <th>Y</th>\n",
              "      <th>FFMC</th>\n",
              "      <th>DMC</th>\n",
              "      <th>DC</th>\n",
              "      <th>ISI</th>\n",
              "      <th>temp</th>\n",
              "      <th>RH</th>\n",
              "      <th>wind</th>\n",
              "      <th>rain</th>\n",
              "      <th>area</th>\n",
              "    </tr>\n",
              "  </thead>\n",
              "  <tbody>\n",
              "    <tr>\n",
              "      <th>X</th>\n",
              "      <td>1.000000</td>\n",
              "      <td>0.481958</td>\n",
              "      <td>-0.070729</td>\n",
              "      <td>-0.082882</td>\n",
              "      <td>-0.097020</td>\n",
              "      <td>0.003760</td>\n",
              "      <td>-0.060757</td>\n",
              "      <td>0.081566</td>\n",
              "      <td>0.016699</td>\n",
              "      <td>0.106047</td>\n",
              "      <td>0.038364</td>\n",
              "    </tr>\n",
              "    <tr>\n",
              "      <th>Y</th>\n",
              "      <td>0.481958</td>\n",
              "      <td>1.000000</td>\n",
              "      <td>-0.027837</td>\n",
              "      <td>0.006697</td>\n",
              "      <td>-0.116588</td>\n",
              "      <td>-0.050865</td>\n",
              "      <td>-0.047194</td>\n",
              "      <td>0.075483</td>\n",
              "      <td>-0.056825</td>\n",
              "      <td>0.065329</td>\n",
              "      <td>0.062555</td>\n",
              "    </tr>\n",
              "    <tr>\n",
              "      <th>FFMC</th>\n",
              "      <td>-0.070729</td>\n",
              "      <td>-0.027837</td>\n",
              "      <td>1.000000</td>\n",
              "      <td>0.494726</td>\n",
              "      <td>0.229370</td>\n",
              "      <td>0.795014</td>\n",
              "      <td>0.594105</td>\n",
              "      <td>-0.347661</td>\n",
              "      <td>-0.030324</td>\n",
              "      <td>0.118104</td>\n",
              "      <td>0.018090</td>\n",
              "    </tr>\n",
              "    <tr>\n",
              "      <th>DMC</th>\n",
              "      <td>-0.082882</td>\n",
              "      <td>0.006697</td>\n",
              "      <td>0.494726</td>\n",
              "      <td>1.000000</td>\n",
              "      <td>0.562753</td>\n",
              "      <td>0.394178</td>\n",
              "      <td>0.468887</td>\n",
              "      <td>0.043702</td>\n",
              "      <td>-0.098967</td>\n",
              "      <td>0.166716</td>\n",
              "      <td>0.026109</td>\n",
              "    </tr>\n",
              "    <tr>\n",
              "      <th>DC</th>\n",
              "      <td>-0.097020</td>\n",
              "      <td>-0.116588</td>\n",
              "      <td>0.229370</td>\n",
              "      <td>0.562753</td>\n",
              "      <td>1.000000</td>\n",
              "      <td>0.082584</td>\n",
              "      <td>0.274941</td>\n",
              "      <td>0.050014</td>\n",
              "      <td>-0.157062</td>\n",
              "      <td>0.033104</td>\n",
              "      <td>0.036140</td>\n",
              "    </tr>\n",
              "    <tr>\n",
              "      <th>ISI</th>\n",
              "      <td>0.003760</td>\n",
              "      <td>-0.050865</td>\n",
              "      <td>0.795014</td>\n",
              "      <td>0.394178</td>\n",
              "      <td>0.082584</td>\n",
              "      <td>1.000000</td>\n",
              "      <td>0.406165</td>\n",
              "      <td>-0.171347</td>\n",
              "      <td>0.128069</td>\n",
              "      <td>0.133786</td>\n",
              "      <td>0.019129</td>\n",
              "    </tr>\n",
              "    <tr>\n",
              "      <th>temp</th>\n",
              "      <td>-0.060757</td>\n",
              "      <td>-0.047194</td>\n",
              "      <td>0.594105</td>\n",
              "      <td>0.468887</td>\n",
              "      <td>0.274941</td>\n",
              "      <td>0.406165</td>\n",
              "      <td>1.000000</td>\n",
              "      <td>-0.551008</td>\n",
              "      <td>-0.184548</td>\n",
              "      <td>0.056701</td>\n",
              "      <td>0.048286</td>\n",
              "    </tr>\n",
              "    <tr>\n",
              "      <th>RH</th>\n",
              "      <td>0.081566</td>\n",
              "      <td>0.075483</td>\n",
              "      <td>-0.347661</td>\n",
              "      <td>0.043702</td>\n",
              "      <td>0.050014</td>\n",
              "      <td>-0.171347</td>\n",
              "      <td>-0.551008</td>\n",
              "      <td>1.000000</td>\n",
              "      <td>0.100768</td>\n",
              "      <td>0.187838</td>\n",
              "      <td>-0.043599</td>\n",
              "    </tr>\n",
              "    <tr>\n",
              "      <th>wind</th>\n",
              "      <td>0.016699</td>\n",
              "      <td>-0.056825</td>\n",
              "      <td>-0.030324</td>\n",
              "      <td>-0.098967</td>\n",
              "      <td>-0.157062</td>\n",
              "      <td>0.128069</td>\n",
              "      <td>-0.184548</td>\n",
              "      <td>0.100768</td>\n",
              "      <td>1.000000</td>\n",
              "      <td>0.146433</td>\n",
              "      <td>0.049758</td>\n",
              "    </tr>\n",
              "    <tr>\n",
              "      <th>rain</th>\n",
              "      <td>0.106047</td>\n",
              "      <td>0.065329</td>\n",
              "      <td>0.118104</td>\n",
              "      <td>0.166716</td>\n",
              "      <td>0.033104</td>\n",
              "      <td>0.133786</td>\n",
              "      <td>0.056701</td>\n",
              "      <td>0.187838</td>\n",
              "      <td>0.146433</td>\n",
              "      <td>1.000000</td>\n",
              "      <td>-0.056283</td>\n",
              "    </tr>\n",
              "    <tr>\n",
              "      <th>area</th>\n",
              "      <td>0.038364</td>\n",
              "      <td>0.062555</td>\n",
              "      <td>0.018090</td>\n",
              "      <td>0.026109</td>\n",
              "      <td>0.036140</td>\n",
              "      <td>0.019129</td>\n",
              "      <td>0.048286</td>\n",
              "      <td>-0.043599</td>\n",
              "      <td>0.049758</td>\n",
              "      <td>-0.056283</td>\n",
              "      <td>1.000000</td>\n",
              "    </tr>\n",
              "  </tbody>\n",
              "</table>\n",
              "</div>"
            ],
            "text/plain": [
              "             X         Y      FFMC  ...      wind      rain      area\n",
              "X     1.000000  0.481958 -0.070729  ...  0.016699  0.106047  0.038364\n",
              "Y     0.481958  1.000000 -0.027837  ... -0.056825  0.065329  0.062555\n",
              "FFMC -0.070729 -0.027837  1.000000  ... -0.030324  0.118104  0.018090\n",
              "DMC  -0.082882  0.006697  0.494726  ... -0.098967  0.166716  0.026109\n",
              "DC   -0.097020 -0.116588  0.229370  ... -0.157062  0.033104  0.036140\n",
              "ISI   0.003760 -0.050865  0.795014  ...  0.128069  0.133786  0.019129\n",
              "temp -0.060757 -0.047194  0.594105  ... -0.184548  0.056701  0.048286\n",
              "RH    0.081566  0.075483 -0.347661  ...  0.100768  0.187838 -0.043599\n",
              "wind  0.016699 -0.056825 -0.030324  ...  1.000000  0.146433  0.049758\n",
              "rain  0.106047  0.065329  0.118104  ...  0.146433  1.000000 -0.056283\n",
              "area  0.038364  0.062555  0.018090  ...  0.049758 -0.056283  1.000000\n",
              "\n",
              "[11 rows x 11 columns]"
            ]
          },
          "metadata": {
            "tags": []
          },
          "execution_count": 34
        }
      ]
    },
    {
      "cell_type": "code",
      "metadata": {
        "id": "b-h1pNrhogs5",
        "outputId": "8e887eca-c9aa-4b47-f12c-04e46c2bd488",
        "colab": {
          "base_uri": "https://localhost:8080/",
          "height": 491
        }
      },
      "source": [
        "ax = plt.figure(figsize=(12,8))\n",
        "ax = sns.heatmap(corr_matrix, cmap='PiYG')"
      ],
      "execution_count": 35,
      "outputs": [
        {
          "output_type": "display_data",
          "data": {
            "image/png": "[encoded data removed]",
            "text/plain": [
              "<Figure size 864x576 with 2 Axes>"
            ]
          },
          "metadata": {
            "tags": [],
            "needs_background": "light"
          }
        }
      ]
    },
    {
      "cell_type": "code",
      "metadata": {
        "id": "f6uC3lSuokRM",
        "outputId": "ac3d2445-1e68-4e75-d2e0-3876767fc580",
        "colab": {
          "base_uri": "https://localhost:8080/",
          "height": 218
        }
      },
      "source": [
        "#corrleation with area\n",
        "corr_matrix.area.sort_values(ascending=False)"
      ],
      "execution_count": 36,
      "outputs": [
        {
          "output_type": "execute_result",
          "data": {
            "text/plain": [
              "area    1.000000\n",
              "Y       0.062555\n",
              "wind    0.049758\n",
              "temp    0.048286\n",
              "X       0.038364\n",
              "DC      0.036140\n",
              "DMC     0.026109\n",
              "ISI     0.019129\n",
              "FFMC    0.018090\n",
              "RH     -0.043599\n",
              "rain   -0.056283\n",
              "Name: area, dtype: float64"
            ]
          },
          "metadata": {
            "tags": []
          },
          "execution_count": 36
        }
      ]
    },
    {
      "cell_type": "code",
      "metadata": {
        "id": "EZUEsL9fon9v",
        "outputId": "6d91758a-1e18-46bf-cade-efa66bae2553",
        "colab": {
          "base_uri": "https://localhost:8080/",
          "height": 903
        }
      },
      "source": [
        "#visualizing relations of most related attributes\n",
        "attributes = ['area', 'wind', 'temp', 'rain', 'RH']\n",
        "sns.pairplot(forest_fire[attributes])\n",
        "plt.show()"
      ],
      "execution_count": 37,
      "outputs": [
        {
          "output_type": "display_data",
          "data": {
            "image/png": "[encoded data removed]",
            "text/plain": [
              "<Figure size 900x900 with 30 Axes>"
            ]
          },
          "metadata": {
            "tags": [],
            "needs_background": "light"
          }
        }
      ]
    },
    {
      "cell_type": "code",
      "metadata": {
        "id": "b9c154lpoqTv"
      },
      "source": [
        "#create a fresh copy of train to preprocess\n",
        "forest_fire = st_train_set.drop('area', axis=1)\n",
        "forest_fire_labels = st_train_set.area.copy()"
      ],
      "execution_count": 38,
      "outputs": []
    },
    {
      "cell_type": "markdown",
      "metadata": {
        "id": "cPUQj-TQ6mk1"
      },
      "source": [
        "# Transformation"
      ]
    },
    {
      "cell_type": "markdown",
      "metadata": {
        "id": "1vTLMdS3pAjE"
      },
      "source": [
        "I chose to remove coordinates X & Y before model building. The reason being here we are building a model that will use weather conditions to determine the severity of a wildfire based on area burnt, so keeping X&Y locations of one forest does ‘t generalize well to others.\n",
        "Now in the process of data prep, you might need to create or drop several columns. So, it's a good idea to automate the process. Below an example of what an Attribute/Feature deleter will look like."
      ]
    },
    {
      "cell_type": "code",
      "metadata": {
        "id": "yP9ixOano4gn"
      },
      "source": [
        "from sklearn.base import BaseEstimator, TransformerMixin\n",
        "\n",
        "class AttributeDeleter(BaseEstimator, TransformerMixin):\n",
        "    def __init__(self, delete=True):\n",
        "        self.delete = delete\n",
        "    def fit(self, X, y=None):\n",
        "        return self\n",
        "    def transform(self, X, y=None):\n",
        "        return np.delete(X,[fire.columns.get_loc(i) for i in['X','Y','area']],axis=1)"
      ],
      "execution_count": 39,
      "outputs": []
    },
    {
      "cell_type": "markdown",
      "metadata": {
        "id": "keJHmOu26ZwD"
      },
      "source": [
        "With same reasoning, you need to do a lot of transformations depending on the task, so having a custom pipeline that helps you automate these tasks will simplify your deployment process in the end.\n",
        "To handle missing data, I chose to fill them with median values of the attribute you can choose to do differently, or once you finalize your model you can do a hyperparameter tuning to find out which imputing strategy works best using a grid search. Imputing simply means what value are you going to put in place of null values.\n",
        "I chose to create of dummies out of my categorical attributes, but you can do a low-level vector representation of them using embeddings. OneHotEncoder does that for me.\n",
        "And lastly, we have data attributes in many different scales. So, it's always a good idea to either standardize or normalize the scales. Reason being many instances based and model based learning have a distance based cost function to minimize to get the best possible similarity or model fit parameters. Having a standardized scale helps us find the best possible parameters in an efficient way."
      ]
    },
    {
      "cell_type": "markdown",
      "metadata": {
        "id": "PcMWrKeC6p5R"
      },
      "source": [
        "# Pipeline Creation"
      ]
    },
    {
      "cell_type": "code",
      "metadata": {
        "id": "-RGf8_CC6ZBQ",
        "outputId": "ed384430-fc4f-4422-f0e5-5233b9c733cc",
        "colab": {
          "base_uri": "https://localhost:8080/",
          "height": 87
        }
      },
      "source": [
        "from sklearn.impute import SimpleImputer\n",
        "from sklearn.preprocessing import OneHotEncoder, StandardScaler\n",
        "from sklearn.pipeline import Pipeline\n",
        "from sklearn.compose import ColumnTransformer\n",
        "\n",
        "categorical_attributes = list(forest_fire.select_dtypes(include=['object']).columns)\n",
        "numerical_attributes = list(forest_fire.select_dtypes(include=['float64', 'int64']).columns)\n",
        "\n",
        "num_pipeline = Pipeline([('imputer', SimpleImputer(strategy='median')),\n",
        "                         ('drop_attributes', AttributeDeleter()),\n",
        "                         ('std_scaler', StandardScaler()),\n",
        "                        ])\n",
        "full_pipeline = ColumnTransformer([('num', num_pipeline, numerical_attributes),\n",
        "                                   ('cat', OneHotEncoder(), categorical_attributes),\n",
        "                                  ])\n",
        "\n",
        "train = full_pipeline.fit_transform(forest_fire)\n",
        "train_labels = forest_fire_labels\n",
        "train.shape ,forest_fire.shape"
      ],
      "execution_count": 41,
      "outputs": [
        {
          "output_type": "stream",
          "text": [
            "/usr/local/lib/python3.6/dist-packages/ipykernel_launcher.py:9: DeprecationWarning: in the future out of bounds indices will raise an error instead of being ignored by `numpy.delete`.\n",
            "  if __name__ == '__main__':\n"
          ],
          "name": "stderr"
        },
        {
          "output_type": "execute_result",
          "data": {
            "text/plain": [
              "((400, 24), (400, 12))"
            ]
          },
          "metadata": {
            "tags": []
          },
          "execution_count": 41
        }
      ]
    },
    {
      "cell_type": "markdown",
      "metadata": {
        "id": "MVZNyx3Z6jtk"
      },
      "source": [
        "Now we can finally start the model selection process where we try out bunch of different models. Choose some and fine tune them before finalizing one."
      ]
    },
    {
      "cell_type": "code",
      "metadata": {
        "id": "n-YVRt4y6c2o",
        "outputId": "9e543c12-fac6-41e1-e535-ed7c84477fd6",
        "colab": {
          "base_uri": "https://localhost:8080/",
          "height": 101
        }
      },
      "source": [
        "from sklearn.linear_model import LinearRegression\n",
        "from sklearn.metrics import mean_squared_error\n",
        "\n",
        "lin_reg = LinearRegression()\n",
        "lin_reg.fit(train, train_labels)\n",
        "\n",
        "area_predictions = lin_reg.predict(train)\n",
        "lin_mse = mean_squared_error(train_labels, area_predictions)\n",
        "lin_rmse = np.sqrt(lin_mse)\n",
        "print('linear_train_rmse', lin_rmse) #model might be underfitting\n",
        "\n",
        "from sklearn.model_selection import cross_val_score\n",
        "scores = cross_val_score(lin_reg, train, train_labels, scoring='neg_mean_squared_error', cv=10)\n",
        "lin_rmse_scores = np.sqrt(-scores)\n",
        "\n",
        "def explain_scores(scores):\n",
        "    print(\"Scores:\", scores)\n",
        "    print(\"Mean:\", scores.mean())\n",
        "    print(\"Standard deviation:\", scores.std())\n",
        " \n",
        "explain_scores(lin_rmse_scores)"
      ],
      "execution_count": 42,
      "outputs": [
        {
          "output_type": "stream",
          "text": [
            "linear_train_rmse 13.408351802213172\n",
            "Scores: [16.01181085 11.85147634 13.52834459 17.82237591 11.01185707 16.30916709\n",
            " 12.44789601 12.50009332 20.8719534   9.47630378]\n",
            "Mean: 14.183127836139983\n",
            "Standard deviation: 3.313136940693585\n"
          ],
          "name": "stdout"
        }
      ]
    },
    {
      "cell_type": "code",
      "metadata": {
        "id": "FWIEIqpS6tow",
        "outputId": "e8a64f2b-17e2-4d63-8d21-a419e387e3ae",
        "colab": {
          "base_uri": "https://localhost:8080/",
          "height": 101
        }
      },
      "source": [
        "from sklearn.tree import DecisionTreeRegressor\n",
        "\n",
        "tree_reg = DecisionTreeRegressor()\n",
        "tree_reg.fit(train, train_labels)\n",
        "\n",
        "area_predictions = tree_reg.predict(train)\n",
        "tree_mse = mean_squared_error(train_labels, area_predictions)\n",
        "tree_rmse = np.sqrt(tree_mse)\n",
        "print('tree_train_rmse', tree_rmse) #model obviously overfitting\n",
        "\n",
        "scores = cross_val_score(tree_reg, train, train_labels, scoring='neg_mean_squared_error', cv=10)\n",
        "tree_rmse_scores = np.sqrt(-scores)\n",
        "explain_scores(tree_rmse_scores)"
      ],
      "execution_count": 43,
      "outputs": [
        {
          "output_type": "stream",
          "text": [
            "tree_train_rmse 3.7388655197800307\n",
            "Scores: [21.90990799 26.70966732 18.95440292 19.70253462 17.07366913 22.03832196\n",
            " 17.49653641 20.64671458 20.1917216  21.55456628]\n",
            "Mean: 20.627804281422478\n",
            "Standard deviation: 2.6031698518015642\n"
          ],
          "name": "stdout"
        }
      ]
    },
    {
      "cell_type": "code",
      "metadata": {
        "id": "pc37Ze-g6vjN",
        "outputId": "34332104-cf0e-4cd7-f63b-518e4a4bb3cf",
        "colab": {
          "base_uri": "https://localhost:8080/",
          "height": 101
        }
      },
      "source": [
        "from sklearn.ensemble import RandomForestRegressor\n",
        "\n",
        "rf_reg = RandomForestRegressor()\n",
        "rf_reg.fit(train, train_labels)\n",
        "\n",
        "area_predictions = rf_reg.predict(train)\n",
        "rf_mse = mean_squared_error(train_labels, area_predictions)\n",
        "rf_rmse = np.sqrt(rf_mse)\n",
        "print('rf_train_rmse', rf_rmse) #model is overfitting \n",
        "\n",
        "scores = cross_val_score(rf_reg, train, train_labels, scoring='neg_mean_squared_error', cv=10)\n",
        "rf_rmse_scores = np.sqrt(-scores)\n",
        "explain_scores(rf_rmse_scores)"
      ],
      "execution_count": 44,
      "outputs": [
        {
          "output_type": "stream",
          "text": [
            "rf_train_rmse 6.4136011361797465\n",
            "Scores: [15.1873516  17.28923062 13.67626227 17.81369064 11.57408179 17.7953606\n",
            " 12.91392765 13.39700001 21.38356317 13.53484601]\n",
            "Mean: 15.456531437672428\n",
            "Standard deviation: 2.8675673081866337\n"
          ],
          "name": "stdout"
        }
      ]
    },
    {
      "cell_type": "code",
      "metadata": {
        "id": "ECaJjUki61PG",
        "outputId": "ec32db86-0f4c-4db8-a217-4723de73acc1",
        "colab": {
          "base_uri": "https://localhost:8080/",
          "height": 101
        }
      },
      "source": [
        "from sklearn.svm import SVR\n",
        "\n",
        "svm_reg = SVR(kernel='linear')\n",
        "svm_reg.fit(train, train_labels)\n",
        "\n",
        "area_predictions = svm_reg.predict(train)\n",
        "svm_mse = mean_squared_error(train_labels, area_predictions)\n",
        "svm_rmse = np.sqrt(svm_mse)\n",
        "print('svm_train_rmse', svm_rmse) #svm is generalizing well to crossvalidation set\n",
        "\n",
        "scores = cross_val_score(svm_reg, train, train_labels, scoring='neg_mean_squared_error', cv=10)\n",
        "svm_rmse_scores = np.sqrt(-scores)\n",
        "explain_scores(svm_rmse_scores)"
      ],
      "execution_count": 45,
      "outputs": [
        {
          "output_type": "stream",
          "text": [
            "svm_train_rmse 14.733283759783474\n",
            "Scores: [16.27139224 11.47787044 13.33049909 18.73071215 12.32326765 17.80343673\n",
            " 11.84191105 11.59399797 21.52286507  8.19784989]\n",
            "Mean: 14.309380229983105\n",
            "Standard deviation: 3.8906717758894844\n"
          ],
          "name": "stdout"
        }
      ]
    },
    {
      "cell_type": "code",
      "metadata": {
        "id": "fpbLqq_Q630K",
        "outputId": "ba091270-a93b-4dc9-9b4d-14122ff10481",
        "colab": {
          "base_uri": "https://localhost:8080/",
          "height": 101
        }
      },
      "source": [
        "from sklearn.neighbors import KNeighborsRegressor\n",
        "\n",
        "knn_reg = KNeighborsRegressor()\n",
        "knn_reg.fit(train, train_labels)\n",
        "\n",
        "area_predictions = knn_reg.predict(train)\n",
        "knn_mse = mean_squared_error(train_labels, area_predictions)\n",
        "knn_rmse = np.sqrt(knn_mse)\n",
        "print('knn_train_rmse', knn_rmse) #overfiiting\n",
        "\n",
        "scores = cross_val_score(knn_reg, train, train_labels, scoring='neg_mean_squared_error', cv=10)\n",
        "knn_rmse_scores = np.sqrt(-scores)\n",
        "explain_scores(knn_rmse_scores)"
      ],
      "execution_count": 46,
      "outputs": [
        {
          "output_type": "stream",
          "text": [
            "knn_train_rmse 12.264732235560627\n",
            "Scores: [15.44431282 13.26958344 14.2681095  18.89717775 12.73927185 17.07379813\n",
            " 13.14335727 12.84071475 21.89010291 11.89887815]\n",
            "Mean: 15.146530657284037\n",
            "Standard deviation: 3.0547068841305847\n"
          ],
          "name": "stdout"
        }
      ]
    },
    {
      "cell_type": "code",
      "metadata": {
        "id": "ZvYX2Ymz67u6",
        "outputId": "5695714d-45c6-4b6b-8597-aa5226922595",
        "colab": {
          "base_uri": "https://localhost:8080/",
          "height": 353
        }
      },
      "source": [
        "#lets improve the models with hyperparameter tuning\n",
        "\n",
        "from sklearn.model_selection import GridSearchCV\n",
        "\n",
        "param_grid = [{'bootstrap':[False,True],'n_estimators':[75,100,125,150,200], 'max_features':[1,2,4,6]}]\n",
        "\n",
        "forest_reg = RandomForestRegressor()\n",
        "\n",
        "grid_search = GridSearchCV(forest_reg, param_grid, cv=5, scoring='neg_mean_squared_error', return_train_score=True)\n",
        "\n",
        "grid_search.fit(train, train_labels)"
      ],
      "execution_count": 47,
      "outputs": [
        {
          "output_type": "execute_result",
          "data": {
            "text/plain": [
              "GridSearchCV(cv=5, error_score=nan,\n",
              "             estimator=RandomForestRegressor(bootstrap=True, ccp_alpha=0.0,\n",
              "                                             criterion='mse', max_depth=None,\n",
              "                                             max_features='auto',\n",
              "                                             max_leaf_nodes=None,\n",
              "                                             max_samples=None,\n",
              "                                             min_impurity_decrease=0.0,\n",
              "                                             min_impurity_split=None,\n",
              "                                             min_samples_leaf=1,\n",
              "                                             min_samples_split=2,\n",
              "                                             min_weight_fraction_leaf=0.0,\n",
              "                                             n_estimators=100, n_jobs=None,\n",
              "                                             oob_score=False, random_state=None,\n",
              "                                             verbose=0, warm_start=False),\n",
              "             iid='deprecated', n_jobs=None,\n",
              "             param_grid=[{'bootstrap': [False, True],\n",
              "                          'max_features': [1, 2, 4, 6],\n",
              "                          'n_estimators': [75, 100, 125, 150, 200]}],\n",
              "             pre_dispatch='2*n_jobs', refit=True, return_train_score=True,\n",
              "             scoring='neg_mean_squared_error', verbose=0)"
            ]
          },
          "metadata": {
            "tags": []
          },
          "execution_count": 47
        }
      ]
    },
    {
      "cell_type": "code",
      "metadata": {
        "id": "XkAb3eyb691q",
        "outputId": "5e594cae-8bb6-4089-82d2-62ef8ec03299",
        "colab": {
          "base_uri": "https://localhost:8080/",
          "height": 34
        }
      },
      "source": [
        "grid_search.best_params_ "
      ],
      "execution_count": 48,
      "outputs": [
        {
          "output_type": "execute_result",
          "data": {
            "text/plain": [
              "{'bootstrap': True, 'max_features': 1, 'n_estimators': 200}"
            ]
          },
          "metadata": {
            "tags": []
          },
          "execution_count": 48
        }
      ]
    },
    {
      "cell_type": "code",
      "metadata": {
        "id": "meO-mcur7Bt7",
        "outputId": "0cead71c-ab5a-492b-cf08-3838e88dce96",
        "colab": {
          "base_uri": "https://localhost:8080/",
          "height": 134
        }
      },
      "source": [
        "grid_search.best_estimator_"
      ],
      "execution_count": 49,
      "outputs": [
        {
          "output_type": "execute_result",
          "data": {
            "text/plain": [
              "RandomForestRegressor(bootstrap=True, ccp_alpha=0.0, criterion='mse',\n",
              "                      max_depth=None, max_features=1, max_leaf_nodes=None,\n",
              "                      max_samples=None, min_impurity_decrease=0.0,\n",
              "                      min_impurity_split=None, min_samples_leaf=1,\n",
              "                      min_samples_split=2, min_weight_fraction_leaf=0.0,\n",
              "                      n_estimators=200, n_jobs=None, oob_score=False,\n",
              "                      random_state=None, verbose=0, warm_start=False)"
            ]
          },
          "metadata": {
            "tags": []
          },
          "execution_count": 49
        }
      ]
    },
    {
      "cell_type": "code",
      "metadata": {
        "id": "WIQVyAl27Dtr",
        "outputId": "dbf22bf5-2fc0-4a8a-bdb0-ba374cd348bf",
        "colab": {
          "base_uri": "https://localhost:8080/",
          "height": 420
        }
      },
      "source": [
        "feature_importances = grid_search.best_estimator_.feature_importances_\n",
        "attributes = numerical_attributes + list(full_pipeline.named_transformers_.cat.categories_[0]) +\\\n",
        "             list(full_pipeline.named_transformers_.cat.categories_[1])\n",
        "    \n",
        "sorted(zip(feature_importances, attributes), reverse=True)"
      ],
      "execution_count": 50,
      "outputs": [
        {
          "output_type": "execute_result",
          "data": {
            "text/plain": [
              "[(0.16054064043802355, 'DC'),\n",
              " (0.14468619375614225, 'ISI'),\n",
              " (0.12207639780404937, 'temp'),\n",
              " (0.1059706349923087, 'Y'),\n",
              " (0.10563673965453989, 'FFMC'),\n",
              " (0.09401546558080502, 'X'),\n",
              " (0.09127444061684983, 'DMC'),\n",
              " (0.020704874788540554, 'thu'),\n",
              " (0.020625854757968732, 'mon'),\n",
              " (0.018142428650529403, 'rain'),\n",
              " (0.01570279979716167, 'fri'),\n",
              " (0.013171868775175401, 'sun'),\n",
              " (0.012641126459811356, 'dec'),\n",
              " (0.01193157947293523, 'feb'),\n",
              " (0.010497385090699227, 'oct'),\n",
              " (0.009959536224159795, 'mar'),\n",
              " (0.008767664590885798, 'sep'),\n",
              " (0.008759702070206425, 'sat'),\n",
              " (0.006498313801314334, 'jul'),\n",
              " (0.005203041262257841, 'wind'),\n",
              " (0.004499781663656073, 'jun'),\n",
              " (0.0032604524900602867, 'aug'),\n",
              " (0.003193543035794565, 'apr'),\n",
              " (0.002239534226124663, 'RH')]"
            ]
          },
          "metadata": {
            "tags": []
          },
          "execution_count": 50
        }
      ]
    },
    {
      "cell_type": "code",
      "metadata": {
        "id": "lLbkn0MW7Fyq",
        "outputId": "f6306f83-4ddf-4f0d-c08c-fc2884885da2",
        "colab": {
          "base_uri": "https://localhost:8080/",
          "height": 520
        }
      },
      "source": [
        "indices = np.argsort(feature_importances)\n",
        "plt.figure(figsize=(12,8))\n",
        "plt.title('Feature Importances')\n",
        "plt.barh(range(len(indices)), feature_importances[indices], color='lightblue', align='center')\n",
        "plt.yticks(range(len(indices)), [attributes[i] for i in indices])\n",
        "plt.xlabel('Relative Importance')\n",
        "plt.show()"
      ],
      "execution_count": 51,
      "outputs": [
        {
          "output_type": "display_data",
          "data": {
            "image/png": "[encoded data removed]",
            "text/plain": [
              "<Figure size 864x576 with 1 Axes>"
            ]
          },
          "metadata": {
            "tags": [],
            "needs_background": "light"
          }
        }
      ]
    },
    {
      "cell_type": "code",
      "metadata": {
        "id": "jB29ztFP7N9r",
        "outputId": "a49f12c7-3c90-4a03-9104-d7284057d9be",
        "colab": {
          "base_uri": "https://localhost:8080/",
          "height": 386
        }
      },
      "source": [
        "#lets try with RandomizedSearchCV\n",
        "\n",
        "from sklearn.model_selection import RandomizedSearchCV\n",
        "from scipy.stats import randint\n",
        "\n",
        "param_dist = {'n_estimators': randint(low=10, high=250),\n",
        "              'max_features': randint(low=1, high=24),\n",
        "             }\n",
        "\n",
        "forest_reg = RandomForestRegressor(random_state=42)\n",
        "rnd_search = RandomizedSearchCV(forest_reg, param_dist, n_iter=40, cv=5, scoring='neg_mean_squared_error', random_state=42)\n",
        "\n",
        "rnd_search.fit(train, train_labels)"
      ],
      "execution_count": 52,
      "outputs": [
        {
          "output_type": "execute_result",
          "data": {
            "text/plain": [
              "RandomizedSearchCV(cv=5, error_score=nan,\n",
              "                   estimator=RandomForestRegressor(bootstrap=True,\n",
              "                                                   ccp_alpha=0.0,\n",
              "                                                   criterion='mse',\n",
              "                                                   max_depth=None,\n",
              "                                                   max_features='auto',\n",
              "                                                   max_leaf_nodes=None,\n",
              "                                                   max_samples=None,\n",
              "                                                   min_impurity_decrease=0.0,\n",
              "                                                   min_impurity_split=None,\n",
              "                                                   min_samples_leaf=1,\n",
              "                                                   min_samples_split=2,\n",
              "                                                   min_weight_fraction_leaf=0.0,\n",
              "                                                   n_estimators=100,\n",
              "                                                   n_jobs=None, oob_score=Fals...\n",
              "                                                   warm_start=False),\n",
              "                   iid='deprecated', n_iter=40, n_jobs=None,\n",
              "                   param_distributions={'max_features': <scipy.stats._distn_infrastructure.rv_frozen object at 0x7f0c6e2c7898>,\n",
              "                                        'n_estimators': <scipy.stats._distn_infrastructure.rv_frozen object at 0x7f0c6e2c7278>},\n",
              "                   pre_dispatch='2*n_jobs', random_state=42, refit=True,\n",
              "                   return_train_score=False, scoring='neg_mean_squared_error',\n",
              "                   verbose=0)"
            ]
          },
          "metadata": {
            "tags": []
          },
          "execution_count": 52
        }
      ]
    },
    {
      "cell_type": "code",
      "metadata": {
        "id": "lUuNoDIz7Q3Z",
        "outputId": "4672e384-cfb8-4e37-c71f-0ce7f69eb306",
        "colab": {
          "base_uri": "https://localhost:8080/",
          "height": 34
        }
      },
      "source": [
        "rnd_search.best_params_"
      ],
      "execution_count": 53,
      "outputs": [
        {
          "output_type": "execute_result",
          "data": {
            "text/plain": [
              "{'max_features': 4, 'n_estimators': 98}"
            ]
          },
          "metadata": {
            "tags": []
          },
          "execution_count": 53
        }
      ]
    },
    {
      "cell_type": "code",
      "metadata": {
        "id": "zaNxXN087S3S",
        "outputId": "bf2c9dad-b3de-441f-f15a-c28a7138ea32",
        "colab": {
          "base_uri": "https://localhost:8080/",
          "height": 34
        }
      },
      "source": [
        "np.sqrt(-rnd_search.best_score_), np.sqrt(-grid_search.best_score_) #both have very similar scores even though they came up with \n",
        "#different best parameters. which one to use, I leave to you explain"
      ],
      "execution_count": 54,
      "outputs": [
        {
          "output_type": "execute_result",
          "data": {
            "text/plain": [
              "(14.899327797269214, 14.803009140608504)"
            ]
          },
          "metadata": {
            "tags": []
          },
          "execution_count": 54
        }
      ]
    },
    {
      "cell_type": "code",
      "metadata": {
        "id": "EzfQ_QVC7bQx",
        "outputId": "7cd7cd9d-6ae2-458d-91f2-5c3cca1010c1",
        "colab": {
          "base_uri": "https://localhost:8080/",
          "height": 101
        }
      },
      "source": [
        "#tuning svr\n",
        "\n",
        "param_grid = [{'kernel': ['linear'], 'C':[0.5,1,5,10,30]},\n",
        "              {'kernel':['rbf'], 'C':[5,10,15,20], 'gamma':[0.5,1.0,1.5,2.0]},\n",
        "             ]\n",
        "\n",
        "svm_reg = SVR()\n",
        "grid_search = GridSearchCV(svm_reg, param_grid, cv=5, scoring='neg_mean_squared_error', verbose=1, n_jobs=4)\n",
        "grid_search.fit(train,train_labels)\n",
        "\n",
        "negative_mse = grid_search.best_score_\n",
        "rmse = np.sqrt(-negative_mse)\n",
        "rmse"
      ],
      "execution_count": 55,
      "outputs": [
        {
          "output_type": "stream",
          "text": [
            "Fitting 5 folds for each of 21 candidates, totalling 105 fits\n"
          ],
          "name": "stdout"
        },
        {
          "output_type": "stream",
          "text": [
            "[Parallel(n_jobs=4)]: Using backend LokyBackend with 4 concurrent workers.\n",
            "[Parallel(n_jobs=4)]: Done  42 tasks      | elapsed:    4.2s\n",
            "[Parallel(n_jobs=4)]: Done 105 out of 105 | elapsed:    5.1s finished\n"
          ],
          "name": "stderr"
        },
        {
          "output_type": "execute_result",
          "data": {
            "text/plain": [
              "14.279281809880544"
            ]
          },
          "metadata": {
            "tags": []
          },
          "execution_count": 55
        }
      ]
    },
    {
      "cell_type": "code",
      "metadata": {
        "id": "sAdL0HPG7efk",
        "outputId": "07aee3e8-d218-4a0f-cbd6-e6edb8fa0794",
        "colab": {
          "base_uri": "https://localhost:8080/",
          "height": 34
        }
      },
      "source": [
        "grid_search.best_params_"
      ],
      "execution_count": 56,
      "outputs": [
        {
          "output_type": "execute_result",
          "data": {
            "text/plain": [
              "{'C': 10, 'gamma': 1.5, 'kernel': 'rbf'}"
            ]
          },
          "metadata": {
            "tags": []
          },
          "execution_count": 56
        }
      ]
    },
    {
      "cell_type": "code",
      "metadata": {
        "id": "HeAgzlYg7ixg",
        "outputId": "5b4fdade-4bc8-4789-e1ec-338f40a2000e",
        "colab": {
          "base_uri": "https://localhost:8080/",
          "height": 134
        }
      },
      "source": [
        "from scipy.stats import expon, reciprocal\n",
        "\n",
        "param_dist = {'kernel':['linear','rbf'],\n",
        "                  'C':reciprocal(1,100),\n",
        "                  'gamma':expon(scale=1.0)}\n",
        "svm_reg = SVR()\n",
        "rnd_search = RandomizedSearchCV(svm_reg, param_distributions=param_dist, n_iter=100, cv=5,\n",
        "                               scoring='neg_mean_squared_error', verbose=2, n_jobs=4, random_state=42)\n",
        "rnd_search.fit(train, train_labels)\n",
        "\n",
        "negative_mse = rnd_search.best_score_\n",
        "rmse = np.sqrt(-negative_mse)\n",
        "rmse"
      ],
      "execution_count": 57,
      "outputs": [
        {
          "output_type": "stream",
          "text": [
            "Fitting 5 folds for each of 100 candidates, totalling 500 fits\n"
          ],
          "name": "stdout"
        },
        {
          "output_type": "stream",
          "text": [
            "[Parallel(n_jobs=4)]: Using backend LokyBackend with 4 concurrent workers.\n",
            "[Parallel(n_jobs=4)]: Done  92 tasks      | elapsed:    4.5s\n",
            "[Parallel(n_jobs=4)]: Done 332 tasks      | elapsed:   15.4s\n",
            "[Parallel(n_jobs=4)]: Done 493 out of 500 | elapsed:   27.7s remaining:    0.4s\n",
            "[Parallel(n_jobs=4)]: Done 500 out of 500 | elapsed:   28.6s finished\n"
          ],
          "name": "stderr"
        },
        {
          "output_type": "execute_result",
          "data": {
            "text/plain": [
              "14.287286738686516"
            ]
          },
          "metadata": {
            "tags": []
          },
          "execution_count": 57
        }
      ]
    },
    {
      "cell_type": "code",
      "metadata": {
        "id": "sZzYuIdu7nw1",
        "outputId": "10be869a-5612-4478-ef7a-a69b2cfa1dc2",
        "colab": {
          "base_uri": "https://localhost:8080/",
          "height": 34
        }
      },
      "source": [
        "rnd_search.best_params_ #randomized search is able to find better parameters for rbf kernel in same number of iterations"
      ],
      "execution_count": 58,
      "outputs": [
        {
          "output_type": "execute_result",
          "data": {
            "text/plain": [
              "{'C': 10.414253710293567, 'gamma': 1.0115156153275293, 'kernel': 'rbf'}"
            ]
          },
          "metadata": {
            "tags": []
          },
          "execution_count": 58
        }
      ]
    },
    {
      "cell_type": "markdown",
      "metadata": {
        "id": "vTRccwS37uhb"
      },
      "source": [
        "At times it is a good idea to use only your best features in the model, but it is context dependent. Below sample code helps you add another transformer to your pipeline that chooses the best feature based on an estimated feature importance\n"
      ]
    },
    {
      "cell_type": "code",
      "metadata": {
        "id": "rTk34WKh7sB6"
      },
      "source": [
        "def indices_top_features(impotance, top):\n",
        "    return np.sort(np.argpartition(np.array(impotance), -top)[-top:])\n",
        "\n",
        "class TopFeatureSelector(BaseEstimator, TransformerMixin):\n",
        "    def __init__(self, feature_importnaces, top):\n",
        "        self.feature_importnaces = feature_importances\n",
        "        self.top = top\n",
        "    def fit(self, X, y=None):\n",
        "        self.feature_indcies_ = indices_top_features(self.feature_importnaces, self.top)\n",
        "        return self\n",
        "    def transform(self,X):\n",
        "        return X[:, self.feature_indcies_]"
      ],
      "execution_count": 59,
      "outputs": []
    },
    {
      "cell_type": "code",
      "metadata": {
        "id": "TXhz-E797z54"
      },
      "source": [
        "data_prep_feature_seletion_pipe = Pipeline([('prep', full_pipeline),\n",
        "                                            ('fe_select', TopFeatureSelector(feature_importances,5)) #here am choosing top 5 features you can choose others depending on \n",
        "                                           ])                                                        #on what you want to keep "
      ],
      "execution_count": 60,
      "outputs": []
    },
    {
      "cell_type": "code",
      "metadata": {
        "id": "AOMfhjic71X1",
        "outputId": "412a1bad-2459-40ad-c7cc-cb250a44827e",
        "colab": {
          "base_uri": "https://localhost:8080/",
          "height": 87
        }
      },
      "source": [
        "train_fe_selected = data_prep_feature_seletion_pipe.fit_transform(forest_fire)\n",
        "train_fe_selected.shape"
      ],
      "execution_count": 61,
      "outputs": [
        {
          "output_type": "stream",
          "text": [
            "/usr/local/lib/python3.6/dist-packages/ipykernel_launcher.py:9: DeprecationWarning: in the future out of bounds indices will raise an error instead of being ignored by `numpy.delete`.\n",
            "  if __name__ == '__main__':\n"
          ],
          "name": "stderr"
        },
        {
          "output_type": "execute_result",
          "data": {
            "text/plain": [
              "(400, 5)"
            ]
          },
          "metadata": {
            "tags": []
          },
          "execution_count": 61
        }
      ]
    },
    {
      "cell_type": "code",
      "metadata": {
        "id": "c6kBjBmX73Ax",
        "outputId": "d7d54a06-70b4-4916-cbb7-925b0153eecf",
        "colab": {
          "base_uri": "https://localhost:8080/",
          "height": 101
        }
      },
      "source": [
        "#now let's try knn with these reduced dimensions \n",
        "\n",
        "knn_reg = KNeighborsRegressor()\n",
        "knn_reg.fit(train_fe_selected, train_labels)\n",
        "\n",
        "area_predictions = knn_reg.predict(train_fe_selected)\n",
        "knn_mse = mean_squared_error(train_labels, area_predictions)\n",
        "knn_rmse = np.sqrt(knn_mse)\n",
        "print('knn_train_rmse', knn_rmse) #knn is generalizing well to crossvalidation set\n",
        "\n",
        "scores = cross_val_score(knn_reg, train_fe_selected, train_labels, scoring='neg_mean_squared_error', cv=10)\n",
        "knn_rmse_scores = np.sqrt(-scores)\n",
        "explain_scores(knn_rmse_scores)"
      ],
      "execution_count": 62,
      "outputs": [
        {
          "output_type": "stream",
          "text": [
            "knn_train_rmse 12.410643353186812\n",
            "Scores: [15.82385426 13.66648182 14.32809107 19.03754417 12.9068144  17.30360238\n",
            " 13.26014549 10.96969598 21.70251846  9.79899367]\n",
            "Mean: 14.879774169263836\n",
            "Standard deviation: 3.464077990130809\n"
          ],
          "name": "stdout"
        }
      ]
    },
    {
      "cell_type": "code",
      "metadata": {
        "id": "lQdoaWkR75sH",
        "outputId": "56ab6a3a-3e28-4ef2-bac8-8b5904ecef67",
        "colab": {
          "base_uri": "https://localhost:8080/",
          "height": 84
        }
      },
      "source": [
        "#lets tune KNN \n",
        "param_grid = {'weights': ['uniform', 'distance'], 'n_neighbors': list(range(1,36,5))}\n",
        "\n",
        "knn_reg= KNeighborsRegressor()\n",
        "knn_grid_search = GridSearchCV(knn_reg, param_grid, cv=5, scoring='neg_mean_squared_error', verbose=1, n_jobs=4)\n",
        "knn_grid_search.fit(train_fe_selected,train_labels)\n",
        "\n",
        "knn_negative_mse = knn_grid_search.best_score_\n",
        "knn_rmse = np.sqrt(-knn_negative_mse)\n",
        "knn_rmse"
      ],
      "execution_count": 63,
      "outputs": [
        {
          "output_type": "stream",
          "text": [
            "Fitting 5 folds for each of 14 candidates, totalling 70 fits\n"
          ],
          "name": "stdout"
        },
        {
          "output_type": "stream",
          "text": [
            "[Parallel(n_jobs=4)]: Using backend LokyBackend with 4 concurrent workers.\n",
            "[Parallel(n_jobs=4)]: Done  70 out of  70 | elapsed:    0.5s finished\n"
          ],
          "name": "stderr"
        },
        {
          "output_type": "execute_result",
          "data": {
            "text/plain": [
              "14.12515060556197"
            ]
          },
          "metadata": {
            "tags": []
          },
          "execution_count": 63
        }
      ]
    },
    {
      "cell_type": "code",
      "metadata": {
        "id": "MKQO5wQL78U4",
        "outputId": "ee02d371-9c1e-4f63-e31a-c1c9b0a6fcf5",
        "colab": {
          "base_uri": "https://localhost:8080/",
          "height": 286
        }
      },
      "source": [
        "#and for final model I want to try GBM\n",
        "from xgboost import XGBRegressor\n",
        "\n",
        "xgb_reg = XGBRegressor()\n",
        "xgb_reg.fit(train_fe_selected, train_labels)\n",
        "\n",
        "area_predictions = xgb_reg.predict(train_fe_selected)\n",
        "xgb_mse = mean_squared_error(train_labels, area_predictions)\n",
        "xgb_rmse = np.sqrt(xgb_mse)\n",
        "print('xgb_train_rmse', xgb_rmse) #overfitting\n",
        "\n",
        "scores = cross_val_score(xgb_reg, train_fe_selected, train_labels, scoring='neg_mean_squared_error', cv=10)\n",
        "xgb_rmse_scores = np.sqrt(-scores)\n",
        "explain_scores(xgb_rmse_scores)"
      ],
      "execution_count": 64,
      "outputs": [
        {
          "output_type": "stream",
          "text": [
            "[13:39:43] WARNING: /workspace/src/objective/regression_obj.cu:152: reg:linear is now deprecated in favor of reg:squarederror.\n",
            "xgb_train_rmse 9.510023888294025\n",
            "[13:39:43] WARNING: /workspace/src/objective/regression_obj.cu:152: reg:linear is now deprecated in favor of reg:squarederror.\n",
            "[13:39:43] WARNING: /workspace/src/objective/regression_obj.cu:152: reg:linear is now deprecated in favor of reg:squarederror.\n",
            "[13:39:43] WARNING: /workspace/src/objective/regression_obj.cu:152: reg:linear is now deprecated in favor of reg:squarederror.\n",
            "[13:39:43] WARNING: /workspace/src/objective/regression_obj.cu:152: reg:linear is now deprecated in favor of reg:squarederror.\n",
            "[13:39:43] WARNING: /workspace/src/objective/regression_obj.cu:152: reg:linear is now deprecated in favor of reg:squarederror.\n",
            "[13:39:43] WARNING: /workspace/src/objective/regression_obj.cu:152: reg:linear is now deprecated in favor of reg:squarederror.\n",
            "[13:39:43] WARNING: /workspace/src/objective/regression_obj.cu:152: reg:linear is now deprecated in favor of reg:squarederror.\n",
            "[13:39:43] WARNING: /workspace/src/objective/regression_obj.cu:152: reg:linear is now deprecated in favor of reg:squarederror.\n",
            "[13:39:43] WARNING: /workspace/src/objective/regression_obj.cu:152: reg:linear is now deprecated in favor of reg:squarederror.\n",
            "[13:39:43] WARNING: /workspace/src/objective/regression_obj.cu:152: reg:linear is now deprecated in favor of reg:squarederror.\n",
            "Scores: [15.10031759 17.85561218 13.47592171 17.49411289 12.31912452 16.28012249\n",
            " 12.59937269 12.42109479 21.30372835 12.44402188]\n",
            "Mean: 15.12934290926716\n",
            "Standard deviation: 2.8991427729342276\n"
          ],
          "name": "stdout"
        }
      ]
    },
    {
      "cell_type": "code",
      "metadata": {
        "id": "VfwY9Bbn7_HW",
        "outputId": "8367befb-90f4-44b3-c09c-8f21b1ded8b8",
        "colab": {
          "base_uri": "https://localhost:8080/",
          "height": 118
        }
      },
      "source": [
        "param_grid = {'objective':['reg:linear'],\n",
        "              'learning_rate': [0.02,0.03,0.04], \n",
        "              'max_depth': [1,2],\n",
        "              'min_child_weight': [2,3,4],\n",
        "              'silent': [1],\n",
        "              'subsample': [0.8],\n",
        "              'colsample_bytree': [0.2,0.3,0.4],\n",
        "              'n_estimators': [50,60,70,100]}\n",
        "\n",
        "xgb_reg = XGBRegressor()\n",
        "\n",
        "xgb_grid_search = GridSearchCV(xgb_reg, param_grid, cv=5, scoring='neg_mean_squared_error', verbose=1, n_jobs=4)\n",
        "xgb_grid_search.fit(train_fe_selected,train_labels)\n",
        "\n",
        "xgb_negative_mse = grid_search.best_score_\n",
        "xgb_rmse = np.sqrt(-xgb_negative_mse)\n",
        "xgb_rmse"
      ],
      "execution_count": 65,
      "outputs": [
        {
          "output_type": "stream",
          "text": [
            "Fitting 5 folds for each of 216 candidates, totalling 1080 fits\n"
          ],
          "name": "stdout"
        },
        {
          "output_type": "stream",
          "text": [
            "[Parallel(n_jobs=4)]: Using backend LokyBackend with 4 concurrent workers.\n",
            "[Parallel(n_jobs=4)]: Done 128 tasks      | elapsed:    1.5s\n",
            "[Parallel(n_jobs=4)]: Done 728 tasks      | elapsed:    7.9s\n",
            "[Parallel(n_jobs=4)]: Done 1080 out of 1080 | elapsed:   11.9s finished\n"
          ],
          "name": "stderr"
        },
        {
          "output_type": "execute_result",
          "data": {
            "text/plain": [
              "14.279281809880544"
            ]
          },
          "metadata": {
            "tags": []
          },
          "execution_count": 65
        }
      ]
    },
    {
      "cell_type": "code",
      "metadata": {
        "id": "bITL5-cg8Bpu",
        "outputId": "0bbb6277-ce13-4944-d0c5-c5af162c5369",
        "colab": {
          "base_uri": "https://localhost:8080/",
          "height": 151
        }
      },
      "source": [
        "xgb_grid_search.best_params_"
      ],
      "execution_count": 66,
      "outputs": [
        {
          "output_type": "execute_result",
          "data": {
            "text/plain": [
              "{'colsample_bytree': 0.2,\n",
              " 'learning_rate': 0.03,\n",
              " 'max_depth': 1,\n",
              " 'min_child_weight': 2,\n",
              " 'n_estimators': 70,\n",
              " 'objective': 'reg:linear',\n",
              " 'silent': 1,\n",
              " 'subsample': 0.8}"
            ]
          },
          "metadata": {
            "tags": []
          },
          "execution_count": 66
        }
      ]
    },
    {
      "cell_type": "code",
      "metadata": {
        "id": "XbvXAc-D8EPf",
        "outputId": "4d9f04ac-929b-4e6d-e118-b6f4d761411f",
        "colab": {
          "base_uri": "https://localhost:8080/",
          "height": 87
        }
      },
      "source": [
        "final_model = knn_grid_search.best_estimator_\n",
        "\n",
        "X_test = st_test_set.drop(['area'], axis=1)\n",
        "y_test = st_test_set['area'].copy()\n",
        "\n",
        "X_test_prepared = data_prep_feature_seletion_pipe.transform(X_test)\n",
        "\n",
        "final_predictions = final_model.predict(X_test_prepared)\n",
        "\n",
        "final_mse = mean_squared_error(y_test, final_predictions)\n",
        "final_rmse = np.sqrt(final_mse)\n",
        "final_rmse"
      ],
      "execution_count": 67,
      "outputs": [
        {
          "output_type": "stream",
          "text": [
            "/usr/local/lib/python3.6/dist-packages/ipykernel_launcher.py:9: DeprecationWarning: in the future out of bounds indices will raise an error instead of being ignored by `numpy.delete`.\n",
            "  if __name__ == '__main__':\n"
          ],
          "name": "stderr"
        },
        {
          "output_type": "execute_result",
          "data": {
            "text/plain": [
              "13.5845575382228"
            ]
          },
          "metadata": {
            "tags": []
          },
          "execution_count": 67
        }
      ]
    },
    {
      "cell_type": "markdown",
      "metadata": {
        "id": "GJOXENNm8Kyp"
      },
      "source": [
        "Let's say, I determined to deploy XGB model. I will add a predictor to my previously defined Pipeline as the last element., which will take care of the entire process from preparing the data to predicting area"
      ]
    },
    {
      "cell_type": "code",
      "metadata": {
        "id": "GxMmCWdk8KFh"
      },
      "source": [
        "prepare_select_and_predict_pipeline = Pipeline([\n",
        "    ('preparation', full_pipeline),\n",
        "    ('feature_selection', TopFeatureSelector(feature_importances, 5)),\n",
        "    ('final_model', XGBRegressor(**xgb_grid_search.best_params_))\n",
        "])"
      ],
      "execution_count": 68,
      "outputs": []
    },
    {
      "cell_type": "code",
      "metadata": {
        "id": "AoKQynYX8MXJ",
        "outputId": "083b8141-3033-465a-a983-6a65ab3b4911",
        "colab": {
          "base_uri": "https://localhost:8080/",
          "height": 507
        }
      },
      "source": [
        "prepare_select_and_predict_pipeline.fit(forest_fire,forest_fire_labels)"
      ],
      "execution_count": 69,
      "outputs": [
        {
          "output_type": "stream",
          "text": [
            "/usr/local/lib/python3.6/dist-packages/ipykernel_launcher.py:9: DeprecationWarning: in the future out of bounds indices will raise an error instead of being ignored by `numpy.delete`.\n",
            "  if __name__ == '__main__':\n"
          ],
          "name": "stderr"
        },
        {
          "output_type": "execute_result",
          "data": {
            "text/plain": [
              "Pipeline(memory=None,\n",
              "         steps=[('preparation',\n",
              "                 ColumnTransformer(n_jobs=None, remainder='drop',\n",
              "                                   sparse_threshold=0.3,\n",
              "                                   transformer_weights=None,\n",
              "                                   transformers=[('num',\n",
              "                                                  Pipeline(memory=None,\n",
              "                                                           steps=[('imputer',\n",
              "                                                                   SimpleImputer(add_indicator=False,\n",
              "                                                                                 copy=True,\n",
              "                                                                                 fill_value=None,\n",
              "                                                                                 missing_values=nan,\n",
              "                                                                                 strategy='median',\n",
              "                                                                                 verbose=0)),\n",
              "                                                                  ('drop_attributes',\n",
              "                                                                   AttributeDeleter(delete=Tr...\n",
              "                              colsample_bylevel=1, colsample_bynode=1,\n",
              "                              colsample_bytree=0.2, gamma=0,\n",
              "                              importance_type='gain', learning_rate=0.03,\n",
              "                              max_delta_step=0, max_depth=1, min_child_weight=2,\n",
              "                              missing=None, n_estimators=70, n_jobs=1,\n",
              "                              nthread=None, objective='reg:linear',\n",
              "                              random_state=0, reg_alpha=0, reg_lambda=1,\n",
              "                              scale_pos_weight=1, seed=None, silent=1,\n",
              "                              subsample=0.8, verbosity=1))],\n",
              "         verbose=False)"
            ]
          },
          "metadata": {
            "tags": []
          },
          "execution_count": 69
        }
      ]
    },
    {
      "cell_type": "code",
      "metadata": {
        "id": "Jy47RAX48N6M",
        "outputId": "ef943638-ae2f-4f84-aca0-81a52b03ffa8",
        "colab": {
          "base_uri": "https://localhost:8080/",
          "height": 50
        }
      },
      "source": [
        "final_predictions = prepare_select_and_predict_pipeline.predict(X_test)"
      ],
      "execution_count": 70,
      "outputs": [
        {
          "output_type": "stream",
          "text": [
            "/usr/local/lib/python3.6/dist-packages/ipykernel_launcher.py:9: DeprecationWarning: in the future out of bounds indices will raise an error instead of being ignored by `numpy.delete`.\n",
            "  if __name__ == '__main__':\n"
          ],
          "name": "stderr"
        }
      ]
    },
    {
      "cell_type": "markdown",
      "metadata": {
        "id": "AaBOdGKb8W-K"
      },
      "source": [
        "An example showing a small use case. Let's assume some_data here are the new data that our system will predict for."
      ]
    },
    {
      "cell_type": "code",
      "metadata": {
        "id": "MHGLco158RG3",
        "outputId": "d3407e31-0953-430f-b0b9-46b7b845f636",
        "colab": {
          "base_uri": "https://localhost:8080/",
          "height": 84
        }
      },
      "source": [
        "some_data = forest_fire[:4]\n",
        "some_labels = forest_fire_labels[:4]\n",
        "\n",
        "print(\"Predictions:\\t\", prepare_select_and_predict_pipeline.predict(some_data))\n",
        "print(\"Labels:\\t\\t\", list(some_labels))"
      ],
      "execution_count": 73,
      "outputs": [
        {
          "output_type": "stream",
          "text": [
            "Predictions:\t [4.5554733 4.5554733 4.705267  5.3368034]\n",
            "Labels:\t\t [8.12, 1.58, 13.7, 4.41]\n"
          ],
          "name": "stdout"
        },
        {
          "output_type": "stream",
          "text": [
            "/usr/local/lib/python3.6/dist-packages/ipykernel_launcher.py:9: DeprecationWarning: in the future out of bounds indices will raise an error instead of being ignored by `numpy.delete`.\n",
            "  if __name__ == '__main__':\n"
          ],
          "name": "stderr"
        }
      ]
    },
    {
      "cell_type": "code",
      "metadata": {
        "id": "0TBQySS_8Suc",
        "outputId": "ebfaca35-4308-49f2-d010-2d10afae4368",
        "colab": {
          "base_uri": "https://localhost:8080/",
          "height": 34
        }
      },
      "source": [
        "#Confidence Interval of our Predictions will help us better understand the ouput of our model\n",
        "from scipy import stats\n",
        "\n",
        "confidence = 0.95\n",
        "squared_errors = (final_predictions-y_test)**2\n",
        "np.sqrt(stats.t.interval(confidence, len(squared_errors)-1, loc=squared_errors.mean(), scale=stats.sem(squared_errors)))"
      ],
      "execution_count": 74,
      "outputs": [
        {
          "output_type": "execute_result",
          "data": {
            "text/plain": [
              "array([ 4.7743105, 18.7834699])"
            ]
          },
          "metadata": {
            "tags": []
          },
          "execution_count": 74
        }
      ]
    },
    {
      "cell_type": "code",
      "metadata": {
        "id": "SN56KBBH8ayU"
      },
      "source": [
        ""
      ],
      "execution_count": null,
      "outputs": []
    }
  ]
}